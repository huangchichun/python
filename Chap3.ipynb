{
  "nbformat": 4,
  "nbformat_minor": 0,
  "metadata": {
    "colab": {
      "name": "Chap3.ipynb",
      "provenance": [],
      "collapsed_sections": []
    },
    "kernelspec": {
      "name": "python3",
      "display_name": "Python 3"
    },
    "language_info": {
      "name": "python"
    }
  },
  "cells": [
    {
      "cell_type": "code",
      "execution_count": null,
      "metadata": {
        "colab": {
          "base_uri": "https://localhost:8080/"
        },
        "id": "cpeM4ZjreS-x",
        "outputId": "b734006e-3826-4344-f5b1-97452692e747"
      },
      "outputs": [
        {
          "output_type": "stream",
          "name": "stdout",
          "text": [
            "90\n",
            "100\n",
            "90\n",
            "100\n",
            "88\n",
            "60\n",
            "79\n"
          ]
        }
      ],
      "source": [
        "score=[90,100,88,60,79]\n",
        "print(score[0])\n",
        "print(score[1])\n",
        "\n",
        "for i in range(len(score)): #len(score):  score的長度\n",
        "    print(score[i])"
      ]
    },
    {
      "cell_type": "code",
      "source": [
        "#score=[90,100,88,60,79]\n",
        "print(score[0:3]) #取出score[0]-score[2]，不包含score[3]\n",
        "print(score[:])  #取出所有的值\n",
        "print(score[:4])  #取出score[0]-score[3]，不包含score[4]\n",
        "print(score[2:])  #取出score[2]後面所有的值\n",
        "print(score[0:5:2]) #間隔2\n",
        "print(score[::2])  #間隔2\n",
        "print(score[::-2])\n",
        "print(score[4:0:-2])"
      ],
      "metadata": {
        "colab": {
          "base_uri": "https://localhost:8080/"
        },
        "id": "x2Nj5JOOg9oe",
        "outputId": "6ac28086-2cff-4e5b-9115-4bf23a9bd7ca"
      },
      "execution_count": null,
      "outputs": [
        {
          "output_type": "stream",
          "name": "stdout",
          "text": [
            "[90, 100, 88]\n",
            "[90, 100, 88, 60, 79]\n",
            "[90, 100, 88, 60]\n",
            "[88, 60, 79]\n",
            "[90, 88, 79]\n",
            "[90, 88, 79]\n",
            "[79, 88, 90]\n",
            "[79, 88]\n"
          ]
        }
      ]
    },
    {
      "cell_type": "code",
      "source": [
        "my_list0=[]\n",
        "print(my_list0)\n",
        "my_list1=list()\n",
        "my_list2=['python', 'javascript', 'C#']\n",
        "print(my_list2)\n",
        "print(len(my_list2))\n",
        "print(my_list2[2])"
      ],
      "metadata": {
        "id": "eVS5Uo56p9IY",
        "colab": {
          "base_uri": "https://localhost:8080/"
        },
        "outputId": "f94f447a-58f7-4d98-f498-e7adfc7d1c92"
      },
      "execution_count": null,
      "outputs": [
        {
          "output_type": "stream",
          "name": "stdout",
          "text": [
            "[]\n",
            "['python', 'javascript', 'C#']\n",
            "3\n",
            "C#\n"
          ]
        }
      ]
    },
    {
      "cell_type": "code",
      "source": [
        "my_list2=['python', 'javascript', 'C#']\n",
        "my_list2.append('java') #append:附加在最後面\n",
        "print(my_list2)\n",
        "my_list2.remove('java') #remove:移除\n",
        "print(my_list2)\n",
        "my_list2.insert(0,'java') #insert:插入物件,需要指定索引位置\n",
        "print(my_list2)\n",
        "my_list2.clear()     #clear:清除所有物件\n",
        "print(my_list2)"
      ],
      "metadata": {
        "colab": {
          "base_uri": "https://localhost:8080/"
        },
        "id": "GNocXxK_cWsG",
        "outputId": "6803865f-87c7-4eb5-ac5e-ac5db3e48183"
      },
      "execution_count": null,
      "outputs": [
        {
          "output_type": "stream",
          "name": "stdout",
          "text": [
            "['python', 'javascript', 'C#', 'java']\n",
            "['python', 'javascript', 'C#']\n",
            "['java', 'python', 'javascript', 'C#']\n",
            "[]\n"
          ]
        }
      ]
    },
    {
      "cell_type": "code",
      "source": [
        ""
      ],
      "metadata": {
        "id": "q5kdv1OKeo5l"
      },
      "execution_count": null,
      "outputs": []
    }
  ]
}