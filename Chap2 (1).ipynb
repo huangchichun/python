{
  "nbformat": 4,
  "nbformat_minor": 0,
  "metadata": {
    "colab": {
      "name": "Chap2.ipynb",
      "provenance": [],
      "collapsed_sections": []
    },
    "kernelspec": {
      "name": "python3",
      "display_name": "Python 3"
    },
    "language_info": {
      "name": "python"
    }
  },
  "cells": [
    {
      "cell_type": "markdown",
      "source": [
        "# Chap2 流程控制"
      ],
      "metadata": {
        "id": "8xMyipSBRH37"
      }
    },
    {
      "cell_type": "code",
      "execution_count": 2,
      "metadata": {
        "id": "j7Qlj0JgOFKk",
        "colab": {
          "base_uri": "https://localhost:8080/"
        },
        "outputId": "7de63141-627c-4fd4-bd46-628549ea077b"
      },
      "outputs": [
        {
          "output_type": "stream",
          "name": "stdout",
          "text": [
            "請輸入數字a:4\n",
            "請輸入數字b:5\n",
            "b>a\n"
          ]
        }
      ],
      "source": [
        "a=eval(input(\"請輸入數字a:\"))\n",
        "b=eval(input(\"請輸入數字b:\"))\n",
        "if a>b :\n",
        "  print(\"a>b\")\n",
        "elif a==b:\n",
        "  print(\"a==b\")  \n",
        "else:\n",
        "  print(\"b>a\")\n",
        "\n"
      ]
    },
    {
      "cell_type": "code",
      "source": [
        "grade=eval(input(\"請輸入成績\"))\n",
        "print(\"成績評鑑:\")\n",
        "if grade >= 90:\n",
        "    print(\"優等\")\n",
        "elif grade >=80:\n",
        "    print(\"甲等\")\n",
        "elif grade >=70:\n",
        "    print(\"乙等\")\n",
        "elif grade >=60:\n",
        "    print(\"丙等\")\n",
        "else:\n",
        "    print(\"不及格\")\n"
      ],
      "metadata": {
        "id": "yUre2QdHWMRT",
        "colab": {
          "base_uri": "https://localhost:8080/"
        },
        "outputId": "7f2c3b54-64fc-4ea6-b2e3-98cf56e171fd"
      },
      "execution_count": 3,
      "outputs": [
        {
          "output_type": "stream",
          "name": "stdout",
          "text": [
            "請輸入成績88\n",
            "成績評鑑:\n",
            "甲等\n"
          ]
        }
      ]
    },
    {
      "cell_type": "code",
      "source": [
        "for i in range(10): #range(10):0, 1, 2,.....9\n",
        "  print(i)"
      ],
      "metadata": {
        "id": "SIAoew3FVROc",
        "colab": {
          "base_uri": "https://localhost:8080/"
        },
        "outputId": "f9dad18d-cc85-44c9-c7ba-c707fd536fd2"
      },
      "execution_count": 4,
      "outputs": [
        {
          "output_type": "stream",
          "name": "stdout",
          "text": [
            "0\n",
            "1\n",
            "2\n",
            "3\n",
            "4\n",
            "5\n",
            "6\n",
            "7\n",
            "8\n",
            "9\n"
          ]
        }
      ]
    },
    {
      "cell_type": "code",
      "source": [
        "for i in range(0,10,1): #range(0開始, 9結束(不包含10),每次進1步)\n",
        "   print(i)"
      ],
      "metadata": {
        "id": "m1_qHS1pb-vE",
        "colab": {
          "base_uri": "https://localhost:8080/"
        },
        "outputId": "a9663205-9180-497d-8008-2047d94aab9a"
      },
      "execution_count": 5,
      "outputs": [
        {
          "output_type": "stream",
          "name": "stdout",
          "text": [
            "0\n",
            "1\n",
            "2\n",
            "3\n",
            "4\n",
            "5\n",
            "6\n",
            "7\n",
            "8\n",
            "9\n"
          ]
        }
      ]
    },
    {
      "cell_type": "code",
      "source": [
        "sum=0\n",
        "for count in range(1, 11, 1):\n",
        "  sum=sum+count\n",
        "print(sum)"
      ],
      "metadata": {
        "id": "7Haw29ozcfZv",
        "colab": {
          "base_uri": "https://localhost:8080/"
        },
        "outputId": "3243474f-ec63-4c9a-801a-a338dac1f07c"
      },
      "execution_count": 6,
      "outputs": [
        {
          "output_type": "stream",
          "name": "stdout",
          "text": [
            "55\n"
          ]
        }
      ]
    },
    {
      "cell_type": "code",
      "source": [
        "for c in \"I am a boy\":\n",
        "  print(c)\n"
      ],
      "metadata": {
        "id": "sXv8oR8key0i",
        "colab": {
          "base_uri": "https://localhost:8080/"
        },
        "outputId": "32bd78e7-e195-4f25-a16d-156d7986e24a"
      },
      "execution_count": 7,
      "outputs": [
        {
          "output_type": "stream",
          "name": "stdout",
          "text": [
            "I\n",
            " \n",
            "a\n",
            "m\n",
            " \n",
            "a\n",
            " \n",
            "b\n",
            "o\n",
            "y\n"
          ]
        }
      ]
    },
    {
      "cell_type": "code",
      "source": [
        "for score in [90,100,88,77]:\n",
        "  print(score)"
      ],
      "metadata": {
        "id": "wEcPLIxihr0i",
        "colab": {
          "base_uri": "https://localhost:8080/"
        },
        "outputId": "4bc8f3ad-2df0-48fb-fef2-3d6e10d9ff57"
      },
      "execution_count": 8,
      "outputs": [
        {
          "output_type": "stream",
          "name": "stdout",
          "text": [
            "90\n",
            "100\n",
            "88\n",
            "77\n"
          ]
        }
      ]
    },
    {
      "cell_type": "code",
      "source": [
        "for s in [\"john\",\"mary\",\"tom\",\"simpson\"]:\n",
        "  print(s)\n"
      ],
      "metadata": {
        "id": "p4XJUHSjh0ap",
        "colab": {
          "base_uri": "https://localhost:8080/"
        },
        "outputId": "b91089b8-87e1-44a3-d77b-10f1750e7331"
      },
      "execution_count": 9,
      "outputs": [
        {
          "output_type": "stream",
          "name": "stdout",
          "text": [
            "john\n",
            "mary\n",
            "tom\n",
            "simpson\n"
          ]
        }
      ]
    },
    {
      "cell_type": "code",
      "source": [
        "sum=0\n",
        "count=1\n",
        "while count <=10:\n",
        "    sum += count\n",
        "    count += 1\n",
        "print(sum)"
      ],
      "metadata": {
        "id": "3Hg7AbhjkKJy",
        "colab": {
          "base_uri": "https://localhost:8080/"
        },
        "outputId": "5ec9dd96-9816-4c30-e2c8-32a93cd60f1b"
      },
      "execution_count": 10,
      "outputs": [
        {
          "output_type": "stream",
          "name": "stdout",
          "text": [
            "55\n"
          ]
        }
      ]
    },
    {
      "cell_type": "code",
      "source": [
        "for chicken in range(0,36):\n",
        "    rabbit=35-chicken\n",
        "    if (2*chicken+4*rabbit) == 94:\n",
        "        print(\"雞有\",chicken,\"隻,兔子有\",rabbit,\"隻\")\n",
        "        break\n",
        "else:\n",
        "    print(\"無解\")"
      ],
      "metadata": {
        "id": "7Exf9K7VEDFj",
        "colab": {
          "base_uri": "https://localhost:8080/"
        },
        "outputId": "f2e4a8ec-46ea-4f1e-85d1-3be68888e75a"
      },
      "execution_count": 11,
      "outputs": [
        {
          "output_type": "stream",
          "name": "stdout",
          "text": [
            "雞有 23 隻,兔子有 12 隻\n"
          ]
        }
      ]
    }
  ]
}