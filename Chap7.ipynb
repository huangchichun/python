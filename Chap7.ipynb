{
  "nbformat": 4,
  "nbformat_minor": 0,
  "metadata": {
    "colab": {
      "name": "Chap7.ipynb",
      "provenance": [],
      "collapsed_sections": []
    },
    "kernelspec": {
      "name": "python3",
      "display_name": "Python 3"
    },
    "language_info": {
      "name": "python"
    }
  },
  "cells": [
    {
      "cell_type": "markdown",
      "source": [
        "# Chap7 錯誤處理\n",
        "### try:\n",
        "程式碼\n",
        "### except:\n",
        "例外的時候處理動作\n",
        "### else:\n",
        "當沒有進入例外(程式正確)的處理動作\n",
        "### finally:\n",
        "不管正確例外,都會執行的動作"
      ],
      "metadata": {
        "id": "IWrkDGsuwyWk"
      }
    },
    {
      "cell_type": "code",
      "execution_count": null,
      "metadata": {
        "colab": {
          "base_uri": "https://localhost:8080/"
        },
        "id": "pJiEf5F7wwi0",
        "outputId": "0f3c91a5-1f27-4e47-9998-bdead0cbf4ec"
      },
      "outputs": [
        {
          "output_type": "stream",
          "name": "stdout",
          "text": [
            "NameError錯誤產生\n"
          ]
        }
      ],
      "source": [
        "try:\n",
        "  a=10\n",
        "  b=20\n",
        "  if a<b:\n",
        "    print(n)\n",
        "except NameError:\n",
        "    print(\"NameError錯誤產生\")\n",
        "except:\n",
        "    print(\"其他錯誤產生\")     "
      ]
    },
    {
      "cell_type": "code",
      "source": [
        "a=10\n",
        "b=20\n",
        "try:\n",
        "    if a<b:\n",
        "        print(n)\n",
        "except NameError as e:\n",
        "    print(\"錯誤產生, 錯誤原因：\",e)\n",
        "except ZeroDivisionError:\n",
        "    print(\"除以0錯誤\")"
      ],
      "metadata": {
        "id": "ElAGo2fV0Kf6",
        "outputId": "ad7b31c1-bb1d-4458-99e0-edcd1dfc2a63",
        "colab": {
          "base_uri": "https://localhost:8080/"
        }
      },
      "execution_count": null,
      "outputs": [
        {
          "output_type": "stream",
          "name": "stdout",
          "text": [
            "錯誤產生, 錯誤原因： name 'n' is not defined\n"
          ]
        }
      ]
    },
    {
      "cell_type": "code",
      "source": [
        "try:\n",
        "  a=10\n",
        "  b=20\n",
        "  if a<b:\n",
        "    print(n)\n",
        "except NameError:\n",
        "    print(\"NameError錯誤產生\")\n",
        "except:\n",
        "    print(\"其他錯誤產生\")\n",
        "else:\n",
        "    print(\"沒有任何錯誤產生\")\n",
        "finally:\n",
        "    print(\"不管程式正確錯誤都會執行的部分\")  "
      ],
      "metadata": {
        "colab": {
          "base_uri": "https://localhost:8080/"
        },
        "id": "O-MctT-_zNZs",
        "outputId": "726f3c0d-9e46-4474-f28d-ad6ac0170208"
      },
      "execution_count": null,
      "outputs": [
        {
          "output_type": "stream",
          "name": "stdout",
          "text": [
            "NameError錯誤產生\n",
            "不管程式正確錯誤都會執行的部分\n"
          ]
        }
      ]
    },
    {
      "cell_type": "code",
      "source": [
        ""
      ],
      "metadata": {
        "id": "7berA-QS0JUC"
      },
      "execution_count": null,
      "outputs": []
    }
  ]
}