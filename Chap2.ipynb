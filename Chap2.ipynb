{
  "nbformat": 4,
  "nbformat_minor": 0,
  "metadata": {
    "colab": {
      "name": "Chap2.ipynb",
      "provenance": [],
      "collapsed_sections": []
    },
    "kernelspec": {
      "name": "python3",
      "display_name": "Python 3"
    },
    "language_info": {
      "name": "python"
    }
  },
  "cells": [
    {
      "cell_type": "markdown",
      "source": [
        "# Chap2 流程控制"
      ],
      "metadata": {
        "id": "8xMyipSBRH37"
      }
    },
    {
      "cell_type": "code",
      "execution_count": null,
      "metadata": {
        "id": "j7Qlj0JgOFKk"
      },
      "outputs": [],
      "source": [
        "a=eval(input(\"請輸入數字a:\"))\n",
        "b=eval(input(\"請輸入數字b:\"))\n",
        "if a>b :\n",
        "  print(\"a>b\")\n",
        "elif a==b:\n",
        "  print(\"a==b\")  \n",
        "else:\n",
        "  print(\"b>a\")\n",
        "\n"
      ]
    },
    {
      "cell_type": "code",
      "source": [
        "grade=eval(input(\"請輸入成績\"))\n",
        "print(\"成績評鑑:\")\n",
        "if grade >= 90:\n",
        "    print(\"優等\")\n",
        "elif grade >=80:\n",
        "    print(\"甲等\")\n",
        "elif grade >=70:\n",
        "    print(\"乙等\")\n",
        "elif grade >=60:\n",
        "    print(\"丙等\")\n",
        "else:\n",
        "    print(\"不及格\")\n"
      ],
      "metadata": {
        "id": "yUre2QdHWMRT"
      },
      "execution_count": null,
      "outputs": []
    },
    {
      "cell_type": "code",
      "source": [
        "for i in range(10): #range(10):0, 1, 2,.....9\n",
        "  print(i)"
      ],
      "metadata": {
        "id": "SIAoew3FVROc"
      },
      "execution_count": null,
      "outputs": []
    },
    {
      "cell_type": "code",
      "source": [
        "for i in range(0,10,1): #range(0開始, 9結束(不包含10),每次進1步)\n",
        "   print(i)"
      ],
      "metadata": {
        "id": "m1_qHS1pb-vE"
      },
      "execution_count": null,
      "outputs": []
    },
    {
      "cell_type": "code",
      "source": [
        "sum=0\n",
        "for count in range(1, 11, 1):\n",
        "  sum=sum+count\n",
        "print(sum)"
      ],
      "metadata": {
        "id": "7Haw29ozcfZv"
      },
      "execution_count": null,
      "outputs": []
    },
    {
      "cell_type": "code",
      "source": [
        "for c in \"I am a boy\":\n",
        "  print(c)\n"
      ],
      "metadata": {
        "id": "sXv8oR8key0i"
      },
      "execution_count": null,
      "outputs": []
    },
    {
      "cell_type": "code",
      "source": [
        "for score in [90,100,88,77]:\n",
        "  print(score)"
      ],
      "metadata": {
        "id": "wEcPLIxihr0i"
      },
      "execution_count": null,
      "outputs": []
    },
    {
      "cell_type": "code",
      "source": [
        "for s in [\"john\",\"mary\",\"tom\",\"simpson\"]:\n",
        "  print(s)\n"
      ],
      "metadata": {
        "id": "p4XJUHSjh0ap"
      },
      "execution_count": null,
      "outputs": []
    },
    {
      "cell_type": "code",
      "source": [
        "sum=0\n",
        "count=1\n",
        "while count <=10:\n",
        "    sum += count\n",
        "    count += 1\n",
        "print(sum)"
      ],
      "metadata": {
        "id": "3Hg7AbhjkKJy"
      },
      "execution_count": null,
      "outputs": []
    },
    {
      "cell_type": "code",
      "source": [
        "for chicken in range(0,36):\n",
        "    rabbit=35-chicken\n",
        "    if (2*chicken+4*rabbit) == 94:\n",
        "        print(\"雞有\",chicken,\"隻,兔子有\",rabbit,\"隻\")\n",
        "        break\n",
        "else:\n",
        "    print(\"無解\")"
      ],
      "metadata": {
        "id": "7Exf9K7VEDFj"
      },
      "execution_count": null,
      "outputs": []
    }
  ]
}