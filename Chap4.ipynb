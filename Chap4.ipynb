{
  "nbformat": 4,
  "nbformat_minor": 0,
  "metadata": {
    "colab": {
      "name": "Chap4.ipynb",
      "provenance": [],
      "collapsed_sections": []
    },
    "kernelspec": {
      "name": "python3",
      "display_name": "Python 3"
    },
    "language_info": {
      "name": "python"
    }
  },
  "cells": [
    {
      "cell_type": "markdown",
      "source": [
        "# Chap.4 numpy套件(numeric python)\n",
        "## 為什麼需要numpy?\n",
        "\n",
        "*   numpy由c撰寫，速度快python 10~1000倍以上\n",
        "*   numpy儲存結果較正確，python數字儲存不正確\n",
        "*   numpy節省記憶體儲存空間\n",
        "*   numpy的向量(矩陣計算)速度快\n",
        "*   numpy的取值方便\n",
        "\n",
        "\n",
        "\n",
        "\n"
      ],
      "metadata": {
        "id": "E0qdGSL529Ka"
      }
    },
    {
      "cell_type": "code",
      "execution_count": 1,
      "metadata": {
        "colab": {
          "base_uri": "https://localhost:8080/"
        },
        "id": "5GEdsIc22zXY",
        "outputId": "45e2334d-51ed-4922-ca28-2232fcefe30c"
      },
      "outputs": [
        {
          "output_type": "stream",
          "name": "stdout",
          "text": [
            "[1, 2, 3, 4, 5, 1, 2, 3, 4, 5, 1, 2, 3, 4, 5]\n"
          ]
        }
      ],
      "source": [
        "a_list=[1,2,3,4,5]\n",
        "print(a_list*3)"
      ]
    },
    {
      "cell_type": "code",
      "source": [
        "#numpy套件的ndarray型態,提供element-wise的操作\n",
        "import numpy as np\n",
        "a=np.array([1,2,3,4,5])\n",
        "print(a*3)"
      ],
      "metadata": {
        "colab": {
          "base_uri": "https://localhost:8080/"
        },
        "id": "EUnLIAfG5oMx",
        "outputId": "e7089d41-b1fd-41a9-bf9d-5deb859c1a1a"
      },
      "execution_count": 2,
      "outputs": [
        {
          "output_type": "stream",
          "name": "stdout",
          "text": [
            "[ 3  6  9 12 15]\n"
          ]
        }
      ]
    },
    {
      "cell_type": "code",
      "source": [
        "a=np.array([1,2,3,4,5])\n",
        "print(type(a))\n",
        "print(a.shape) #ndaary的形狀\n",
        "print(a.dtype) #資料的型態\n",
        "print(a.ndim) #維度"
      ],
      "metadata": {
        "colab": {
          "base_uri": "https://localhost:8080/"
        },
        "id": "rcz4WDXi5qAB",
        "outputId": "1a66d4f4-632e-40f7-efac-843c9502e15a"
      },
      "execution_count": 3,
      "outputs": [
        {
          "output_type": "stream",
          "name": "stdout",
          "text": [
            "<class 'numpy.ndarray'>\n",
            "(5,)\n",
            "int64\n",
            "1\n"
          ]
        }
      ]
    },
    {
      "cell_type": "code",
      "source": [
        "import numpy as np\n",
        "z=np.zeros(6)\n",
        "print(z)\n",
        "print(np.empty((2,3,4)))\n",
        "print(np.arange(10))"
      ],
      "metadata": {
        "colab": {
          "base_uri": "https://localhost:8080/"
        },
        "id": "zzyGXP145sBZ",
        "outputId": "fea4d271-ec56-4c7e-b04f-71f9371a0820"
      },
      "execution_count": 4,
      "outputs": [
        {
          "output_type": "stream",
          "name": "stdout",
          "text": [
            "[0. 0. 0. 0. 0. 0.]\n",
            "[[[2.2771541e-316 0.0000000e+000 0.0000000e+000 0.0000000e+000]\n",
            "  [0.0000000e+000 0.0000000e+000 0.0000000e+000 0.0000000e+000]\n",
            "  [0.0000000e+000 0.0000000e+000 0.0000000e+000 0.0000000e+000]]\n",
            "\n",
            " [[0.0000000e+000 0.0000000e+000 0.0000000e+000 0.0000000e+000]\n",
            "  [0.0000000e+000 0.0000000e+000 0.0000000e+000 0.0000000e+000]\n",
            "  [0.0000000e+000 0.0000000e+000 0.0000000e+000 0.0000000e+000]]]\n",
            "[0 1 2 3 4 5 6 7 8 9]\n"
          ]
        }
      ]
    },
    {
      "cell_type": "markdown",
      "source": [
        "## ndarray的進階操作"
      ],
      "metadata": {
        "id": "ymbdgGX07agi"
      }
    },
    {
      "cell_type": "code",
      "source": [
        "import numpy as np\n",
        "a=np.array([0,1,2,3,4])\n",
        "print(a)\n",
        "b=np.arange(5)\n",
        "print(b)"
      ],
      "metadata": {
        "colab": {
          "base_uri": "https://localhost:8080/"
        },
        "id": "YoG5f29m7bpS",
        "outputId": "389d02e2-0232-475e-95c9-31e01754c2e6"
      },
      "execution_count": 5,
      "outputs": [
        {
          "output_type": "stream",
          "name": "stdout",
          "text": [
            "[0 1 2 3 4]\n",
            "[0 1 2 3 4]\n"
          ]
        }
      ]
    },
    {
      "cell_type": "code",
      "source": [
        "my_array=np.arange(10)\n",
        "print(my_array)\n",
        "print(my_array[0])\n",
        "print(my_array[0:5])"
      ],
      "metadata": {
        "colab": {
          "base_uri": "https://localhost:8080/"
        },
        "id": "5vxksZMt9p_J",
        "outputId": "d2d95cb2-60ef-40b3-a7bc-6e14c1f4c1af"
      },
      "execution_count": 6,
      "outputs": [
        {
          "output_type": "stream",
          "name": "stdout",
          "text": [
            "[0 1 2 3 4 5 6 7 8 9]\n",
            "0\n",
            "[0 1 2 3 4]\n"
          ]
        }
      ]
    },
    {
      "cell_type": "markdown",
      "source": [
        "## 2維資料取值"
      ],
      "metadata": {
        "id": "1tierhnA9k9j"
      }
    },
    {
      "cell_type": "code",
      "source": [
        "my_2d_array=np.array([np.arange(0,5),np.arange(5,10)])\n",
        "print(my_2d_array)\n",
        "print(my_2d_array[1,:])#取第\"1\"維的值\n",
        "print(my_2d_array[:,1])#取第\"0,1\"維中,第\"1\"的值\n",
        "print(my_2d_array[1,2])#取第\"1\"維中,第\"2\"的值"
      ],
      "metadata": {
        "colab": {
          "base_uri": "https://localhost:8080/"
        },
        "id": "s7Xsg51Y9m3h",
        "outputId": "eeceae79-87c8-46be-a1e5-d1d716ae20a8"
      },
      "execution_count": 7,
      "outputs": [
        {
          "output_type": "stream",
          "name": "stdout",
          "text": [
            "[[0 1 2 3 4]\n",
            " [5 6 7 8 9]]\n",
            "[5 6 7 8 9]\n",
            "[1 6]\n",
            "6\n"
          ]
        }
      ]
    },
    {
      "cell_type": "code",
      "source": [
        "#更改維度reshape\n",
        "a=np.arange(10)#1維10個數字\n",
        "print(a)\n",
        "b=my_array.reshape(2,5)#更改成2維，每維5個數字\n",
        "print(b)"
      ],
      "metadata": {
        "colab": {
          "base_uri": "https://localhost:8080/"
        },
        "id": "52TSnurN_Edp",
        "outputId": "55da386d-0820-4d84-b672-6902ba135d35"
      },
      "execution_count": 18,
      "outputs": [
        {
          "output_type": "stream",
          "name": "stdout",
          "text": [
            "[0 1 2 3 4 5 6 7 8 9]\n",
            "[[0 1 2 3 4]\n",
            " [5 6 7 8 9]]\n"
          ]
        }
      ]
    },
    {
      "cell_type": "code",
      "source": [
        ""
      ],
      "metadata": {
        "id": "Ffm7u3f2CIEC"
      },
      "execution_count": null,
      "outputs": []
    },
    {
      "cell_type": "code",
      "source": [
        ""
      ],
      "metadata": {
        "id": "Gt4hapG3B43q"
      },
      "execution_count": null,
      "outputs": []
    }
  ]
}