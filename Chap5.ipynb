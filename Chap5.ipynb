{
  "nbformat": 4,
  "nbformat_minor": 0,
  "metadata": {
    "colab": {
      "name": "Chap5.ipynb",
      "provenance": [],
      "collapsed_sections": []
    },
    "kernelspec": {
      "name": "python3",
      "display_name": "Python 3"
    },
    "language_info": {
      "name": "python"
    }
  },
  "cells": [
    {
      "cell_type": "markdown",
      "source": [
        "# 函式\n",
        "\n",
        "*   獨立出來的程式組\n",
        "*   可以接受傳入值(多個)\n",
        "*   輸出回傳值(一個)\n",
        "\n",
        "\n",
        "\n",
        "\n"
      ],
      "metadata": {
        "id": "74yCd5ZpjYrl"
      }
    },
    {
      "cell_type": "markdown",
      "source": [
        "# 傳統的寫法"
      ],
      "metadata": {
        "id": "1U1ERrb8fKVe"
      }
    },
    {
      "cell_type": "code",
      "execution_count": null,
      "metadata": {
        "colab": {
          "base_uri": "https://localhost:8080/"
        },
        "id": "4Yyz2-LleyFZ",
        "outputId": "62381dbe-83e1-482a-9c06-fa40de516fe1"
      },
      "outputs": [
        {
          "output_type": "stream",
          "name": "stdout",
          "text": [
            "請輸入圓的半徑：10\n",
            "圓的面積為： 314.1592653589793\n"
          ]
        }
      ],
      "source": [
        "import math\n",
        "radius=eval(input(\"請輸入圓的半徑：\"))\n",
        "print(\"圓的面積為：\", radius * radius * math.pi)"
      ]
    },
    {
      "cell_type": "markdown",
      "source": [
        "## 圓面積計算函示"
      ],
      "metadata": {
        "id": "O8L3tX3RhDpM"
      }
    },
    {
      "cell_type": "code",
      "source": [
        "import math\n",
        "def circle_area(radius):\n",
        "  area = radius * radius * math.pi\n",
        "  return area\n",
        "print(\"半徑為10,面積為:\",circle_area(10))\n",
        "print(\"半徑為5,面積為:\",circle_area(5))\n",
        "print(\"半徑為20,面積為:\",circle_area(20))  "
      ],
      "metadata": {
        "colab": {
          "base_uri": "https://localhost:8080/"
        },
        "id": "gEdbogBKg3A2",
        "outputId": "20c13133-eefd-4b11-f0c8-6236a3e52c71"
      },
      "execution_count": null,
      "outputs": [
        {
          "output_type": "stream",
          "name": "stdout",
          "text": [
            "半徑為10,面積為: 314.1592653589793\n",
            "半徑為5,面積為: 78.53981633974483\n",
            "半徑為20,面積為: 1256.6370614359173\n"
          ]
        }
      ]
    },
    {
      "cell_type": "code",
      "source": [
        ""
      ],
      "metadata": {
        "id": "Wc3Tp3Jii_9p"
      },
      "execution_count": null,
      "outputs": []
    }
  ]
}