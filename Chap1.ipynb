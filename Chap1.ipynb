{
  "nbformat": 4,
  "nbformat_minor": 0,
  "metadata": {
    "colab": {
      "name": "Chap1.ipynb",
      "provenance": [],
      "collapsed_sections": []
    },
    "kernelspec": {
      "name": "python3",
      "display_name": "Python 3"
    },
    "language_info": {
      "name": "python"
    }
  },
  "cells": [
    {
      "cell_type": "markdown",
      "source": [
        "#Chap 1 運算式、變數與資料型別\n",
        "##註解"
      ],
      "metadata": {
        "id": "KVrIH2SNERsb"
      }
    },
    {
      "cell_type": "code",
      "execution_count": null,
      "metadata": {
        "colab": {
          "base_uri": "https://localhost:8080/"
        },
        "id": "hCGl-wTmCm3c",
        "outputId": "1d952b1d-f4f8-4ae2-c50c-2f86ff1d09df"
      },
      "outputs": [
        {
          "output_type": "stream",
          "name": "stdout",
          "text": [
            "8\n"
          ]
        }
      ],
      "source": [
        "a=5 #這是單行註解\n",
        "b=3\n",
        "print(a+b)"
      ]
    },
    {
      "cell_type": "code",
      "source": [
        "'''\n",
        "這是多行註解\n",
        "這是多行註解\n",
        "'''\n",
        "a=5\n",
        "b=3\n",
        "print(a+b)"
      ],
      "metadata": {
        "colab": {
          "base_uri": "https://localhost:8080/"
        },
        "id": "8m8mn5RFEDI8",
        "outputId": "2030a8ec-83d1-4b62-e6fe-b82ee87dccd8"
      },
      "execution_count": null,
      "outputs": [
        {
          "output_type": "stream",
          "name": "stdout",
          "text": [
            "8\n"
          ]
        }
      ]
    },
    {
      "cell_type": "code",
      "source": [
        "a=5\n",
        "b=3\n",
        "#透過第三變數c,交換a,b的值\n",
        "c=a\n",
        "a=b\n",
        "b=c\n",
        "print(a)\n",
        "print(b)"
      ],
      "metadata": {
        "colab": {
          "base_uri": "https://localhost:8080/"
        },
        "id": "I0lr_LPbE90j",
        "outputId": "449304d7-1ccf-4e91-9dbe-911cfd63f8a3"
      },
      "execution_count": null,
      "outputs": [
        {
          "output_type": "stream",
          "name": "stdout",
          "text": [
            "3\n",
            "5\n"
          ]
        }
      ]
    },
    {
      "cell_type": "code",
      "source": [
        "#不透過第三變數c,交換a,b的值\n",
        "a=5\n",
        "b=3\n",
        "a=a+b\n",
        "b=a-b\n",
        "a=a-b\n",
        "print(a)\n",
        "print(b)\n"
      ],
      "metadata": {
        "colab": {
          "base_uri": "https://localhost:8080/"
        },
        "id": "b3njnajiI34s",
        "outputId": "8bcb2420-2214-4e85-c01a-f72c0386ae32"
      },
      "execution_count": null,
      "outputs": [
        {
          "output_type": "stream",
          "name": "stdout",
          "text": [
            "3\n",
            "5\n"
          ]
        }
      ]
    },
    {
      "cell_type": "code",
      "source": [
        "#python版本的變數交換\n",
        "a=5\n",
        "b=3\n",
        "a,b=b,a\n",
        "print(a)\n",
        "print(b)"
      ],
      "metadata": {
        "colab": {
          "base_uri": "https://localhost:8080/"
        },
        "id": "sz_ybupIJunb",
        "outputId": "d9496950-782d-468a-d184-da6314ce257d"
      },
      "execution_count": null,
      "outputs": [
        {
          "output_type": "stream",
          "name": "stdout",
          "text": [
            "3\n",
            "5\n"
          ]
        }
      ]
    },
    {
      "cell_type": "markdown",
      "source": [
        "#變數\n",
        "##變數的平行設定"
      ],
      "metadata": {
        "id": "-qSdQcwEQNFS"
      }
    },
    {
      "cell_type": "code",
      "source": [
        "x,y,z=3,4,5\n",
        "print(x)\n",
        "print(y)\n",
        "print(z)"
      ],
      "metadata": {
        "colab": {
          "base_uri": "https://localhost:8080/"
        },
        "id": "5G9crN7gNo4r",
        "outputId": "83f2e63f-8fdd-48bb-a758-2118ce810655"
      },
      "execution_count": null,
      "outputs": [
        {
          "output_type": "stream",
          "name": "stdout",
          "text": [
            "3\n",
            "4\n",
            "5\n"
          ]
        }
      ]
    },
    {
      "cell_type": "code",
      "source": [
        "x,y,z=3,4,5\n",
        "x+=1 #x=x+1\n",
        "y*=2 #y=y*2\n",
        "z**=3 #z=z^3\n",
        "print(x,y,z)"
      ],
      "metadata": {
        "colab": {
          "base_uri": "https://localhost:8080/"
        },
        "id": "OgnWACSyRmuU",
        "outputId": "f44677ec-3e90-4238-b509-9182f52e3320"
      },
      "execution_count": null,
      "outputs": [
        {
          "output_type": "stream",
          "name": "stdout",
          "text": [
            "4 8 125\n"
          ]
        }
      ]
    },
    {
      "cell_type": "markdown",
      "source": [
        "#Q:半徑為10的圓形,其面積大小為何?"
      ],
      "metadata": {
        "id": "ATw_fl18TF8q"
      }
    },
    {
      "cell_type": "code",
      "source": [
        "import math\n",
        "r=10\n",
        "print(r*r*math.pi)"
      ],
      "metadata": {
        "colab": {
          "base_uri": "https://localhost:8080/"
        },
        "id": "s9PwesCrTLHB",
        "outputId": "92943a7d-1f6d-4979-da17-1be76589a320"
      },
      "execution_count": null,
      "outputs": [
        {
          "output_type": "stream",
          "name": "stdout",
          "text": [
            "314.1592653589793\n"
          ]
        }
      ]
    },
    {
      "cell_type": "code",
      "source": [
        "import math\n",
        "r=eval(input(\"請輸入圓的半徑:\"))\n",
        "print(r*r*math.pi)\n"
      ],
      "metadata": {
        "colab": {
          "base_uri": "https://localhost:8080/"
        },
        "id": "RHlNuIGGVVt7",
        "outputId": "bec9d0b5-8e3c-4fea-e397-877b354a442b"
      },
      "execution_count": null,
      "outputs": [
        {
          "output_type": "stream",
          "name": "stdout",
          "text": [
            "請輸入圓的半徑:10\n",
            "314.1592653589793\n"
          ]
        }
      ]
    },
    {
      "cell_type": "markdown",
      "source": [
        "# 資料型別"
      ],
      "metadata": {
        "id": "EdQ4zNRFF0uh"
      }
    },
    {
      "cell_type": "code",
      "source": [
        "x=254\n",
        "print(type(x)) #是int\n",
        "y=254.0\n",
        "print(type(y)) #是float\n",
        "z=\"write\"\n",
        "print(type(z)) #是str\n",
        "print(type(x==y)) #是bool"
      ],
      "metadata": {
        "id": "F1QF-cWnVykl",
        "colab": {
          "base_uri": "https://localhost:8080/"
        },
        "outputId": "437efc0e-f727-4670-91ed-79df39cb2d9f"
      },
      "execution_count": null,
      "outputs": [
        {
          "output_type": "stream",
          "name": "stdout",
          "text": [
            "<class 'int'>\n",
            "<class 'float'>\n",
            "<class 'str'>\n",
            "<class 'bool'>\n"
          ]
        }
      ]
    },
    {
      "cell_type": "markdown",
      "source": [
        "# 算術符號"
      ],
      "metadata": {
        "id": "X_50O6tVGmnI"
      }
    },
    {
      "cell_type": "code",
      "source": [
        "x=10\n",
        "y=3\n",
        "print(x/y) #除法\n",
        "print(x//y) #求商\n",
        "print(x%y) #求餘數"
      ],
      "metadata": {
        "colab": {
          "base_uri": "https://localhost:8080/"
        },
        "id": "ta8rAbLPGNmJ",
        "outputId": "b952ef13-a64b-438f-99bf-e70011eb24e4"
      },
      "execution_count": null,
      "outputs": [
        {
          "output_type": "stream",
          "name": "stdout",
          "text": [
            "3.3333333333333335\n",
            "3\n",
            "1\n"
          ]
        }
      ]
    },
    {
      "cell_type": "markdown",
      "source": [
        "# 算術符號的順序\n",
        "( ) > ** > * / > + -\n",
        "\n",
        "括號 >次方 >乘 除 >加 減"
      ],
      "metadata": {
        "id": "Zf8XWEhuMfRk"
      }
    },
    {
      "cell_type": "code",
      "source": [
        "x=(5*(1+2)**2-3+4/2)\n",
        "print(x)"
      ],
      "metadata": {
        "colab": {
          "base_uri": "https://localhost:8080/"
        },
        "id": "6cH1sdxJJFWF",
        "outputId": "6a955cb4-16f8-4621-f8e4-8b12c2cf5bf6"
      },
      "execution_count": null,
      "outputs": [
        {
          "output_type": "stream",
          "name": "stdout",
          "text": [
            "44.0\n"
          ]
        }
      ]
    },
    {
      "cell_type": "markdown",
      "source": [
        "# 型態轉換"
      ],
      "metadata": {
        "id": "6BhLBRdGRIhR"
      }
    },
    {
      "cell_type": "code",
      "source": [
        "x=\"must\"\n",
        "print(10*x)\n",
        "print(\"10\"+x)\n",
        "print(10,x)"
      ],
      "metadata": {
        "colab": {
          "base_uri": "https://localhost:8080/"
        },
        "id": "sUrMgu8XSJR3",
        "outputId": "7ff146c2-4570-466c-d0c7-f1361412f23c"
      },
      "execution_count": null,
      "outputs": [
        {
          "output_type": "stream",
          "name": "stdout",
          "text": [
            "mustmustmustmustmustmustmustmustmustmust\n",
            "10must\n",
            "10 must\n"
          ]
        }
      ]
    },
    {
      "cell_type": "code",
      "source": [
        "x=12\n",
        "print(type(x))\n",
        "y=float(x+0.5)\n",
        "print(type(y))\n",
        "print(int(\"12\"))\n",
        "print(float(\"12.5\"))\n",
        "print(eval(\"5*5+2\"))"
      ],
      "metadata": {
        "colab": {
          "base_uri": "https://localhost:8080/"
        },
        "id": "bTd9CHi6SSs_",
        "outputId": "f4958ccf-bf3f-4169-801a-0a05e164267d"
      },
      "execution_count": null,
      "outputs": [
        {
          "output_type": "stream",
          "name": "stdout",
          "text": [
            "<class 'int'>\n",
            "<class 'float'>\n",
            "12\n",
            "12.5\n",
            "27\n"
          ]
        }
      ]
    },
    {
      "cell_type": "code",
      "source": [
        "print(\"This\"+\"is\"+\"a\"+\"book\")\n",
        "print(\"This\",\"is\",\"a\",\"book\")"
      ],
      "metadata": {
        "id": "VxQHcv-ZWtps",
        "colab": {
          "base_uri": "https://localhost:8080/"
        },
        "outputId": "f8fe1137-b3fc-4b42-be7f-d05c408c51d7"
      },
      "execution_count": null,
      "outputs": [
        {
          "output_type": "stream",
          "name": "stdout",
          "text": [
            "Thisisabook\n",
            "This is a book\n"
          ]
        }
      ]
    },
    {
      "cell_type": "code",
      "source": [
        "print(\"This {} a book\".format(\"is\"))\n",
        "x=123456.7819\n",
        "print(\"{:.2f}\".format(x))\n",
        "print(\"{:,.2f}\".format(x))"
      ],
      "metadata": {
        "colab": {
          "base_uri": "https://localhost:8080/"
        },
        "id": "Tx4Klj-EOYHo",
        "outputId": "a4bb3611-5158-46d9-a520-6730ae350128"
      },
      "execution_count": null,
      "outputs": [
        {
          "output_type": "stream",
          "name": "stdout",
          "text": [
            "This is a book\n",
            "123456.78\n",
            "123,456.78\n"
          ]
        }
      ]
    },
    {
      "cell_type": "code",
      "source": [
        "print(\"This %-10s a book%10s\" % (\"is\",\"!\"))\n",
        "print(\"%7.3f\" % 687.433)"
      ],
      "metadata": {
        "colab": {
          "base_uri": "https://localhost:8080/"
        },
        "id": "PK-CHknEOfct",
        "outputId": "ae92d64c-4a31-488c-8e4a-70eee39a2d8f"
      },
      "execution_count": null,
      "outputs": [
        {
          "output_type": "stream",
          "name": "stdout",
          "text": [
            "This is         a book         !\n",
            "687.433\n"
          ]
        }
      ]
    },
    {
      "cell_type": "code",
      "source": [
        ""
      ],
      "metadata": {
        "id": "0q4sU9atVnKt"
      },
      "execution_count": null,
      "outputs": []
    }
  ]
}