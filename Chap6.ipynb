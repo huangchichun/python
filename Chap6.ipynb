{
  "nbformat": 4,
  "nbformat_minor": 0,
  "metadata": {
    "colab": {
      "name": "Chap6.ipynb",
      "provenance": [],
      "collapsed_sections": []
    },
    "kernelspec": {
      "name": "python3",
      "display_name": "Python 3"
    },
    "language_info": {
      "name": "python"
    }
  },
  "cells": [
    {
      "cell_type": "markdown",
      "source": [
        "# Chap6檔案處理\n",
        "os套件：用來處理文件與目錄，與檔案相關操作\n"
      ],
      "metadata": {
        "id": "LiadTIw2f92d"
      }
    },
    {
      "cell_type": "code",
      "execution_count": null,
      "metadata": {
        "colab": {
          "base_uri": "https://localhost:8080/"
        },
        "id": "UQd8kAYTfzgw",
        "outputId": "22267e47-8876-4c40-93e4-9d7f675dbe89"
      },
      "outputs": [
        {
          "output_type": "stream",
          "name": "stdout",
          "text": [
            "/content\n"
          ]
        }
      ],
      "source": [
        "import os\n",
        "print(os.getcwd())#顯示目前所在的工作目錄"
      ]
    },
    {
      "cell_type": "code",
      "source": [
        "print(os.listdir())#顯示目前目錄下所有檔案及子目錄"
      ],
      "metadata": {
        "colab": {
          "base_uri": "https://localhost:8080/"
        },
        "id": "VNxK03WkgYYW",
        "outputId": "73a49603-b45c-4065-ebd1-fcd1b709f723"
      },
      "execution_count": null,
      "outputs": [
        {
          "output_type": "stream",
          "name": "stdout",
          "text": [
            "['.config', 'sample_data']\n"
          ]
        }
      ]
    },
    {
      "cell_type": "code",
      "source": [
        "os.makedirs(\"test\")\n",
        "os.listdir()"
      ],
      "metadata": {
        "colab": {
          "base_uri": "https://localhost:8080/"
        },
        "id": "NQa6FPnuhCdk",
        "outputId": "e5545474-5154-434f-e432-d848a17593c8"
      },
      "execution_count": null,
      "outputs": [
        {
          "output_type": "execute_result",
          "data": {
            "text/plain": [
              "['.config', 'test', 'sample_data']"
            ]
          },
          "metadata": {},
          "execution_count": 4
        }
      ]
    },
    {
      "cell_type": "code",
      "source": [
        "os.rmdir(\"test\")\n",
        "os.listdir()"
      ],
      "metadata": {
        "colab": {
          "base_uri": "https://localhost:8080/"
        },
        "id": "fwTx1W69i11F",
        "outputId": "7f406c1a-9b71-4f06-d5f2-b1a803132cf9"
      },
      "execution_count": null,
      "outputs": [
        {
          "output_type": "execute_result",
          "data": {
            "text/plain": [
              "['.config', 'sample_data']"
            ]
          },
          "metadata": {},
          "execution_count": 5
        }
      ]
    },
    {
      "cell_type": "markdown",
      "source": [
        "### 檔案的開啟跟寫入\n",
        "\n",
        "os套件有自己的開啟檔案函式open，但是MTA認證常用的是python內建的open\n",
        "\n",
        "*  w = 可寫(預設建立檔案) 若檔案存在則會清除舊檔案\n",
        "*  w+ = 可寫可讀(預設建立檔案) 若檔案存在則會清除舊檔案\n",
        "*   r = 可讀\n",
        "*   r+ = 可寫可讀 但寫入資料指向開頭\n",
        "*   a = 可寫不能讀 寫入資料指向尾端\n",
        "*   a+ = 可寫可讀 寫入資料指向尾端\n",
        "*   b = 轉為2進位文件\n",
        "*  ab+ = 2進位文件的讀寫 寫入資料指向尾端\n",
        "\n"
      ],
      "metadata": {
        "id": "dd_X33OOku1l"
      }
    },
    {
      "cell_type": "code",
      "source": [
        "a=open() #python內建開檔\n",
        "os.open() #os套件的開檔"
      ],
      "metadata": {
        "id": "CwMxRTbTjBC8"
      },
      "execution_count": null,
      "outputs": []
    },
    {
      "cell_type": "code",
      "source": [
        "#新增檔案\n",
        "a=open(\"a.txt\",\"w\")\n",
        "a.write(\"This is a test1\")\n",
        "a.write(\"This is a test2\\n\")\n",
        "a.write(\"This is a test3\\n\")\n",
        "a.close()"
      ],
      "metadata": {
        "id": "WwLMtWVxjf_8"
      },
      "execution_count": null,
      "outputs": []
    },
    {
      "cell_type": "code",
      "source": [
        "os.path.isfile(\"a.txt\")"
      ],
      "metadata": {
        "colab": {
          "base_uri": "https://localhost:8080/"
        },
        "id": "Jcg-xAEfmoIV",
        "outputId": "500269b4-17c5-4e0b-d5b5-c1b690e95474"
      },
      "execution_count": null,
      "outputs": [
        {
          "output_type": "execute_result",
          "data": {
            "text/plain": [
              "True"
            ]
          },
          "metadata": {},
          "execution_count": 9
        }
      ]
    },
    {
      "cell_type": "code",
      "source": [
        "a=open(\"a.txt\",\"r\")\n",
        "print(a.readline())\n",
        "print(a.readline())\n",
        "a.close()"
      ],
      "metadata": {
        "colab": {
          "base_uri": "https://localhost:8080/"
        },
        "id": "XuCVgh70nj5c",
        "outputId": "1a0ffe36-8a6d-48ab-ddb9-164fba1e9aca"
      },
      "execution_count": null,
      "outputs": [
        {
          "output_type": "stream",
          "name": "stdout",
          "text": [
            "This is a test1This is a test2\n",
            "\n",
            "This is a test3\n",
            "\n"
          ]
        }
      ]
    },
    {
      "cell_type": "code",
      "source": [
        "if os.path.isfile(\"a.txt\"):\n",
        "    a=open(\"a.txt\",\"r\")\n",
        "    print(a.readlines())\n",
        "    print(a.readlines())\n",
        "    a.close()\n",
        "else:\n",
        "    print(\"檔案不存在\")"
      ],
      "metadata": {
        "colab": {
          "base_uri": "https://localhost:8080/"
        },
        "id": "MO1UCcHin327",
        "outputId": "eb3f1f53-046d-4093-9e7a-82a59419f507"
      },
      "execution_count": null,
      "outputs": [
        {
          "output_type": "stream",
          "name": "stdout",
          "text": [
            "['This is a test1This is a test2\\n', 'This is a test3\\n']\n"
          ]
        }
      ]
    },
    {
      "cell_type": "code",
      "source": [
        "if os.path.isfile(\"a.txt\"):\n",
        "    a=open(\"a.txt\",\"r\")\n",
        "    for line in a:\n",
        "        fields=line.split(\" \") #以空白為切割欄位\n",
        "    a.close()\n",
        "else:\n",
        "    print(\"檔案不存在\")\n",
        "        "
      ],
      "metadata": {
        "id": "mRsYcjl3tuyl"
      },
      "execution_count": null,
      "outputs": []
    },
    {
      "cell_type": "markdown",
      "source": [
        "# 附加檔案"
      ],
      "metadata": {
        "id": "QKERgqQsv8IM"
      }
    },
    {
      "cell_type": "code",
      "source": [
        "a=open(\"a.txt\", \"a\")\n",
        "a.write(\"This is test4\\n\")\n",
        "a.close()"
      ],
      "metadata": {
        "id": "ImkuT5gqt0mj"
      },
      "execution_count": null,
      "outputs": []
    },
    {
      "cell_type": "code",
      "source": [
        "a=open(\"a.txt\",\"r\")\n",
        "print(a.readlines())\n",
        "a.close()"
      ],
      "metadata": {
        "colab": {
          "base_uri": "https://localhost:8080/"
        },
        "id": "3gWTxqCHv-vN",
        "outputId": "93439c9e-a7ab-4fac-e12c-b814816f692d"
      },
      "execution_count": null,
      "outputs": [
        {
          "output_type": "stream",
          "name": "stdout",
          "text": [
            "['This is a test1This is a test2\\n', 'This is a test3\\n', 'This is test4\\n']\n"
          ]
        }
      ]
    },
    {
      "cell_type": "code",
      "source": [
        "a=open(\"a.txt\",\"r+\")\n",
        "a.write(\"This is a test5\\n\")\n",
        "a.close()"
      ],
      "metadata": {
        "id": "BA9sb_mQwBdj"
      },
      "execution_count": null,
      "outputs": []
    },
    {
      "cell_type": "code",
      "source": [
        "a=open(\"a.txt\",\"r\")\n",
        "print(a.readlines())\n",
        "a.close()"
      ],
      "metadata": {
        "colab": {
          "base_uri": "https://localhost:8080/"
        },
        "id": "j1jlVNysw0OU",
        "outputId": "fa5734ea-3350-49d7-c176-3d768f23c18d"
      },
      "execution_count": null,
      "outputs": [
        {
          "output_type": "stream",
          "name": "stdout",
          "text": [
            "['This is a test5\\n', 'his is a test2\\n', 'This is a test3\\n', 'This is test4\\n']\n"
          ]
        }
      ]
    },
    {
      "cell_type": "code",
      "source": [
        "if os.path.isfile(\"a.txt\"):\n",
        "    os.remove(\"a.txt\")\n",
        "    print(\"檔案刪除成功\")\n",
        "else:\n",
        "    print(\"找不到檔案\")\n",
        "print(os.path.isfile(\"a.txt\"))"
      ],
      "metadata": {
        "colab": {
          "base_uri": "https://localhost:8080/"
        },
        "id": "eiQoeyEdw1hc",
        "outputId": "b920d8c0-f30d-4e14-a46e-66ccab7a523c"
      },
      "execution_count": null,
      "outputs": [
        {
          "output_type": "stream",
          "name": "stdout",
          "text": [
            "檔案刪除成功\n",
            "False\n"
          ]
        }
      ]
    },
    {
      "cell_type": "code",
      "source": [
        ""
      ],
      "metadata": {
        "id": "MPld874nzD6E"
      },
      "execution_count": null,
      "outputs": []
    }
  ]
}